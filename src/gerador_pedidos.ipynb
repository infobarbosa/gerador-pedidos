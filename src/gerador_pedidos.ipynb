{
 "cells": [
  {
   "cell_type": "markdown",
   "metadata": {},
   "source": [
    "### Instalando bibliotecas"
   ]
  },
  {
   "cell_type": "code",
   "execution_count": 22,
   "metadata": {},
   "outputs": [
    {
     "name": "stderr",
     "output_type": "stream",
     "text": [
      "1838.00s - pydevd: Sending message related to process being replaced timed-out after 5 seconds\n"
     ]
    },
    {
     "name": "stdout",
     "output_type": "stream",
     "text": [
      "Defaulting to user installation because normal site-packages is not writeable\n",
      "Requirement already satisfied: pandas in /home/barbosa/.local/lib/python3.10/site-packages (2.1.1)\n",
      "Requirement already satisfied: pyarrow in /home/barbosa/.local/lib/python3.10/site-packages (13.0.0)\n",
      "Requirement already satisfied: faker in /home/barbosa/.local/lib/python3.10/site-packages (22.0.0)\n",
      "Requirement already satisfied: tzdata>=2022.1 in /home/barbosa/.local/lib/python3.10/site-packages (from pandas) (2023.3)\n",
      "Requirement already satisfied: pytz>=2020.1 in /home/barbosa/.local/lib/python3.10/site-packages (from pandas) (2023.3.post1)\n",
      "Requirement already satisfied: numpy>=1.22.4 in /home/barbosa/.local/lib/python3.10/site-packages (from pandas) (1.26.0)\n",
      "Requirement already satisfied: python-dateutil>=2.8.2 in /home/barbosa/.local/lib/python3.10/site-packages (from pandas) (2.8.2)\n",
      "Requirement already satisfied: six>=1.5 in /usr/lib/python3/dist-packages (from python-dateutil>=2.8.2->pandas) (1.16.0)\n"
     ]
    }
   ],
   "source": [
    "! pip install pandas pyarrow faker"
   ]
  },
  {
   "cell_type": "markdown",
   "metadata": {},
   "source": [
    "### Importando pacotes"
   ]
  },
  {
   "cell_type": "code",
   "execution_count": 23,
   "metadata": {},
   "outputs": [],
   "source": [
    "import pandas as pd\n",
    "import argparse\n",
    "import random\n",
    "import json\n",
    "import sys\n",
    "import time\n",
    "import uuid\n",
    "from datetime import datetime, timedelta\n",
    "from faker import Faker"
   ]
  },
  {
   "cell_type": "code",
   "execution_count": 24,
   "metadata": {},
   "outputs": [],
   "source": [
    "fake = Faker(locale='pt_BR')"
   ]
  },
  {
   "cell_type": "code",
   "execution_count": 25,
   "metadata": {},
   "outputs": [],
   "source": [
    "class PedidoDeCompra:\n",
    "    def __init__(self, produto, valor_unitario, quantidade, data_criacao, uf, id_cliente):\n",
    "        self.id_pedido = str(uuid.uuid4()) \n",
    "        self.produto = produto\n",
    "        self.valor_unitario = valor_unitario\n",
    "        self.quantidade = quantidade\n",
    "        self.data_criacao = data_criacao.isoformat()\n",
    "        self.uf = uf\n",
    "        self.id_cliente = id_cliente\n",
    "\n",
    "    def to_dict(self):\n",
    "        return self.__dict__"
   ]
  },
  {
   "cell_type": "code",
   "execution_count": 26,
   "metadata": {},
   "outputs": [
    {
     "name": "stdout",
     "output_type": "stream",
     "text": [
      "{'TV': 2500, 'GELADEIRA': 2000, 'HOMETHEATER': 500, 'COMPUTADOR': 700, 'MONITOR': 600, 'TABLET': 1100, 'SOUNDBAR': 900, 'CELULAR': 1000, 'NOTEBOOK': 1500}\n"
     ]
    }
   ],
   "source": [
    "produtos = {\n",
    "    \"TV\": 2500,\n",
    "    \"GELADEIRA\": 2000,\n",
    "    \"HOMETHEATER\": 500,\n",
    "    \"COMPUTADOR\": 700,\n",
    "    \"MONITOR\": 600,\n",
    "    \"TABLET\": 1100,\n",
    "    \"SOUNDBAR\": 900,\n",
    "    \"CELULAR\": 1000,\n",
    "    \"NOTEBOOK\": 1500\n",
    "}\n",
    "\n",
    "print(produtos)"
   ]
  },
  {
   "cell_type": "code",
   "execution_count": 27,
   "metadata": {},
   "outputs": [],
   "source": [
    "def gerar_pedido_aleatorio(data=None):\n",
    "    if data is None:\n",
    "        data = datetime.datetime.now()\n",
    "    produto, valor_unitario = random.choice(list(produtos.items()))\n",
    "    quantidade = random.randint(1, 3)\n",
    "    data_criacao = data.replace(hour=random.randint(0, 23), minute=random.randint(0, 59), second=random.randint(0, 59))\n",
    "    uf = fake.state_abbr()\n",
    "    id_cliente = random.randint(1, 14000)\n",
    "    return PedidoDeCompra(produto, valor_unitario, quantidade, data_criacao, uf, id_cliente)"
   ]
  },
  {
   "cell_type": "code",
   "execution_count": 28,
   "metadata": {},
   "outputs": [
    {
     "name": "stdout",
     "output_type": "stream",
     "text": [
      "{'id_pedido': '8a7939de-3601-422a-8c53-54c464e4dbba', 'produto': 'NOTEBOOK', 'valor_unitario': 1500, 'quantidade': 1, 'data_criacao': '2023-01-02T06:14:23', 'uf': 'RN', 'id_cliente': 10373}\n",
      "{'id_pedido': 'e1ab3d8f-c59a-48fc-8f68-73c5ee450614', 'produto': 'SOUNDBAR', 'valor_unitario': 900, 'quantidade': 1, 'data_criacao': '2023-01-02T00:05:13', 'uf': 'TO', 'id_cliente': 2140}\n"
     ]
    }
   ],
   "source": [
    "data_pedido = datetime.strptime(\"02/01/2023\", \"%d/%m/%Y\")\n",
    "pedido1 = gerar_pedido_aleatorio(data=data_pedido);\n",
    "print(pedido1.to_dict())\n",
    "pedido2 = gerar_pedido_aleatorio(data=data_pedido);\n",
    "print(pedido2.to_dict())"
   ]
  },
  {
   "cell_type": "code",
   "execution_count": 42,
   "metadata": {},
   "outputs": [],
   "source": [
    "def gerar_pedidos_por_dia(data_pedido, quantidade_por_dia):\n",
    "    df = pd.DataFrame()\n",
    "    df = pd.DataFrame(columns=['id_pedido', 'produto', 'valor_unitario', 'quantidade', 'data_criacao', 'uf', 'id_cliente'])\n",
    "\n",
    "    for _ in range(quantidade_por_dia):\n",
    "        pedido = gerar_pedido_aleatorio(data_pedido)\n",
    "        linha = {\n",
    "            'id_pedido': pedido.id_pedido,\n",
    "            'produto': pedido.produto,\n",
    "            'valor_unitario': pedido.valor_unitario,\n",
    "            'quantidade': pedido.quantidade,\n",
    "            'data_criacao': pedido.data_criacao,\n",
    "            'uf': pedido.uf,\n",
    "            'id_cliente': pedido.id_cliente}\n",
    "        df = pd.concat([df, pd.DataFrame([linha])], ignore_index=True)\n",
    "    \n",
    "    return df"
   ]
  },
  {
   "cell_type": "code",
   "execution_count": 47,
   "metadata": {},
   "outputs": [],
   "source": [
    "data_pedido = datetime.strptime(\"01/01/2024\", \"%d/%m/%Y\")\n",
    "meu_df = gerar_pedidos_por_dia(data_pedido, 1000)"
   ]
  },
  {
   "cell_type": "code",
   "execution_count": 48,
   "metadata": {},
   "outputs": [
    {
     "data": {
      "text/html": [
       "<div>\n",
       "<style scoped>\n",
       "    .dataframe tbody tr th:only-of-type {\n",
       "        vertical-align: middle;\n",
       "    }\n",
       "\n",
       "    .dataframe tbody tr th {\n",
       "        vertical-align: top;\n",
       "    }\n",
       "\n",
       "    .dataframe thead th {\n",
       "        text-align: right;\n",
       "    }\n",
       "</style>\n",
       "<table border=\"1\" class=\"dataframe\">\n",
       "  <thead>\n",
       "    <tr style=\"text-align: right;\">\n",
       "      <th></th>\n",
       "      <th>id_pedido</th>\n",
       "      <th>produto</th>\n",
       "      <th>valor_unitario</th>\n",
       "      <th>quantidade</th>\n",
       "      <th>data_criacao</th>\n",
       "      <th>uf</th>\n",
       "      <th>id_cliente</th>\n",
       "    </tr>\n",
       "  </thead>\n",
       "  <tbody>\n",
       "    <tr>\n",
       "      <th>0</th>\n",
       "      <td>1abdafc7-f893-4d76-884b-c42f921628b9</td>\n",
       "      <td>MONITOR</td>\n",
       "      <td>600</td>\n",
       "      <td>2</td>\n",
       "      <td>2024-01-01T14:36:40</td>\n",
       "      <td>PB</td>\n",
       "      <td>8927</td>\n",
       "    </tr>\n",
       "    <tr>\n",
       "      <th>1</th>\n",
       "      <td>ea84403d-c9f6-42c4-9115-4fec5cbec4d9</td>\n",
       "      <td>NOTEBOOK</td>\n",
       "      <td>1500</td>\n",
       "      <td>2</td>\n",
       "      <td>2024-01-01T06:52:42</td>\n",
       "      <td>RN</td>\n",
       "      <td>7891</td>\n",
       "    </tr>\n",
       "    <tr>\n",
       "      <th>2</th>\n",
       "      <td>56154443-5f4e-4b44-bb54-80c3d61d8dec</td>\n",
       "      <td>CELULAR</td>\n",
       "      <td>1000</td>\n",
       "      <td>1</td>\n",
       "      <td>2024-01-01T04:53:16</td>\n",
       "      <td>SC</td>\n",
       "      <td>114</td>\n",
       "    </tr>\n",
       "    <tr>\n",
       "      <th>3</th>\n",
       "      <td>ca05fb58-2429-4a58-b6cc-57b06cf0cfb1</td>\n",
       "      <td>GELADEIRA</td>\n",
       "      <td>2000</td>\n",
       "      <td>3</td>\n",
       "      <td>2024-01-01T10:55:37</td>\n",
       "      <td>PI</td>\n",
       "      <td>4</td>\n",
       "    </tr>\n",
       "    <tr>\n",
       "      <th>4</th>\n",
       "      <td>141c8296-9711-48c5-bf47-007e480a60d9</td>\n",
       "      <td>SOUNDBAR</td>\n",
       "      <td>900</td>\n",
       "      <td>3</td>\n",
       "      <td>2024-01-01T04:41:14</td>\n",
       "      <td>BA</td>\n",
       "      <td>5744</td>\n",
       "    </tr>\n",
       "  </tbody>\n",
       "</table>\n",
       "</div>"
      ],
      "text/plain": [
       "                              id_pedido    produto valor_unitario quantidade  \\\n",
       "0  1abdafc7-f893-4d76-884b-c42f921628b9    MONITOR            600          2   \n",
       "1  ea84403d-c9f6-42c4-9115-4fec5cbec4d9   NOTEBOOK           1500          2   \n",
       "2  56154443-5f4e-4b44-bb54-80c3d61d8dec    CELULAR           1000          1   \n",
       "3  ca05fb58-2429-4a58-b6cc-57b06cf0cfb1  GELADEIRA           2000          3   \n",
       "4  141c8296-9711-48c5-bf47-007e480a60d9   SOUNDBAR            900          3   \n",
       "\n",
       "          data_criacao  uf id_cliente  \n",
       "0  2024-01-01T14:36:40  PB       8927  \n",
       "1  2024-01-01T06:52:42  RN       7891  \n",
       "2  2024-01-01T04:53:16  SC        114  \n",
       "3  2024-01-01T10:55:37  PI          4  \n",
       "4  2024-01-01T04:41:14  BA       5744  "
      ]
     },
     "execution_count": 48,
     "metadata": {},
     "output_type": "execute_result"
    }
   ],
   "source": [
    "meu_df.head()"
   ]
  },
  {
   "cell_type": "code",
   "execution_count": 49,
   "metadata": {},
   "outputs": [
    {
     "data": {
      "text/plain": [
       "(1000, 7)"
      ]
     },
     "execution_count": 49,
     "metadata": {},
     "output_type": "execute_result"
    }
   ],
   "source": [
    "meu_df.shape"
   ]
  },
  {
   "cell_type": "code",
   "execution_count": 50,
   "metadata": {},
   "outputs": [
    {
     "name": "stdout",
     "output_type": "stream",
     "text": [
      "Gerados pedidos para o dia 2024-01-01\n",
      "Gerados pedidos para o dia 2024-01-02\n",
      "Gerados pedidos para o dia 2024-01-03\n",
      "Gerados pedidos para o dia 2024-01-04\n",
      "Gerados pedidos para o dia 2024-01-05\n",
      "Gerados pedidos para o dia 2024-01-06\n",
      "Gerados pedidos para o dia 2024-01-07\n",
      "Gerados pedidos para o dia 2024-01-08\n",
      "Gerados pedidos para o dia 2024-01-09\n",
      "Gerados pedidos para o dia 2024-01-10\n",
      "Gerados pedidos para o dia 2024-01-11\n",
      "Gerados pedidos para o dia 2024-01-12\n",
      "Gerados pedidos para o dia 2024-01-13\n",
      "Gerados pedidos para o dia 2024-01-14\n",
      "Gerados pedidos para o dia 2024-01-15\n",
      "Gerados pedidos para o dia 2024-01-16\n",
      "Gerados pedidos para o dia 2024-01-17\n",
      "Gerados pedidos para o dia 2024-01-18\n",
      "Gerados pedidos para o dia 2024-01-19\n",
      "Gerados pedidos para o dia 2024-01-20\n",
      "Gerados pedidos para o dia 2024-01-21\n",
      "Gerados pedidos para o dia 2024-01-22\n",
      "Gerados pedidos para o dia 2024-01-23\n",
      "Gerados pedidos para o dia 2024-01-24\n",
      "Gerados pedidos para o dia 2024-01-25\n",
      "Gerados pedidos para o dia 2024-01-26\n",
      "Gerados pedidos para o dia 2024-01-27\n",
      "Gerados pedidos para o dia 2024-01-28\n",
      "Gerados pedidos para o dia 2024-01-29\n",
      "Gerados pedidos para o dia 2024-01-30\n",
      "Gerados pedidos para o dia 2024-01-31\n"
     ]
    }
   ],
   "source": [
    "def main():\n",
    "\n",
    "    quantidade = 1000\n",
    "    data_inicio_str = '01/01/2024'\n",
    "    data_fim_str = '31/01/2024' \n",
    "    data_inicio = datetime.strptime(data_inicio_str, \"%d/%m/%Y\")\n",
    "    data_fim = datetime.strptime(data_fim_str, \"%d/%m/%Y\")\n",
    "\n",
    "    data_atual = data_inicio\n",
    "    while data_atual <= data_fim:\n",
    "        data_atual_str = data_atual.strftime(\"%Y-%m-%d\")\n",
    "        for _ in range(quantidade):\n",
    "            df = gerar_pedidos_por_dia(data_atual, quantidade)\n",
    "            df.to_csv(\"./pedidos-\" + data_atual_str + \".csv.gz\", sep=';', header=True, index=False, mode='w', encoding='UTF-8', quoting=None, quotechar='\"', doublequote=True, compression='gzip', chunksize=10000)\n",
    "\n",
    "        data_atual += timedelta(days=1)\n",
    "        print(\"Gerados pedidos para o dia \" + data_atual_str)\n",
    " \n",
    "if __name__ == '__main__':\n",
    "    main()"
   ]
  }
 ],
 "metadata": {
  "kernelspec": {
   "display_name": "Python 3",
   "language": "python",
   "name": "python3"
  },
  "language_info": {
   "codemirror_mode": {
    "name": "ipython",
    "version": 3
   },
   "file_extension": ".py",
   "mimetype": "text/x-python",
   "name": "python",
   "nbconvert_exporter": "python",
   "pygments_lexer": "ipython3",
   "version": "3.10.12"
  }
 },
 "nbformat": 4,
 "nbformat_minor": 2
}
